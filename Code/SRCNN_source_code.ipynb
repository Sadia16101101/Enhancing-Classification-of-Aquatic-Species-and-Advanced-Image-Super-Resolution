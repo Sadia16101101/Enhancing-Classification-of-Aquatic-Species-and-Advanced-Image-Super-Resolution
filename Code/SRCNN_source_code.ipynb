{
  "nbformat": 4,
  "nbformat_minor": 0,
  "metadata": {
    "colab": {
      "provenance": []
    },
    "kernelspec": {
      "name": "python3",
      "display_name": "Python 3"
    },
    "language_info": {
      "name": "python"
    }
  },
  "cells": [
    {
      "cell_type": "code",
      "execution_count": null,
      "metadata": {
        "id": "qALHg6WAtyFk"
      },
      "outputs": [],
      "source": [
        "# Importing libraries\n",
        "import sys\n",
        "import keras\n",
        "import cv2\n",
        "import numpy\n",
        "import matplotlib\n",
        "import skimage\n",
        "from keras.models import Sequential\n",
        "from keras.layers import Conv2D\n",
        "from keras.optimizers import Adam\n",
        "from skimage.metrics import structural_similarity as ssim\n",
        "from matplotlib import pyplot as plt\n",
        "import cv2\n",
        "import numpy as np\n",
        "import math\n",
        "import os"
      ]
    },
    {
      "cell_type": "code",
      "source": [
        "# Defining Image Quality Matric Functions\n",
        "def psnr(target, ref):\n",
        "\n",
        "    # assume RGB image\n",
        "    target_data = target.astype(float)\n",
        "    ref_data = ref.astype(float)\n",
        "\n",
        "    diff = ref_data - target_data\n",
        "    diff = diff.flatten('C')\n",
        "\n",
        "    rmse = math.sqrt(np.mean(diff ** 2.))\n",
        "\n",
        "    return 20 * math.log10(255. / rmse)\n",
        "\n",
        "# define function for mean squared error (MSE)\n",
        "def mse(target, ref):\n",
        "    # the MSE between the two images is the sum of the squared difference between the two images\n",
        "    err = np.sum((target.astype('float') - ref.astype('float')) ** 2)\n",
        "    err /= float(target.shape[0] * target.shape[1])\n",
        "\n",
        "    return err\n",
        "\n",
        "# define function that combines all three image quality metrics\n",
        "def compare_images(target, ref):\n",
        "    scores = []\n",
        "    scores.append(psnr(target, ref))\n",
        "    scores.append(mse(target, ref))\n",
        "    scores.append(ssim(target, ref, multichannel =True))\n",
        "\n",
        "    return scores"
      ],
      "metadata": {
        "id": "mOwu72W4v9of"
      },
      "execution_count": null,
      "outputs": []
    },
    {
      "cell_type": "code",
      "source": [
        "# Preparing Images (degraded) by resizing\n",
        "cwd = os.getcwd()  # Get the current working directory (cwd)\n",
        "def prepare_images(path, factor):\n",
        "\n",
        "    # loop through the files in the directory\n",
        "    for file in os.listdir(path):\n",
        "        try:\n",
        "          # open the file\n",
        "          img = cv2.imread(path + '/' + file)\n",
        "\n",
        "          # find old and new image dimensions\n",
        "          h, w, _ = img.shape\n",
        "          new_height = int(h / factor)\n",
        "          new_width = int(w / factor)\n",
        "\n",
        "          # resize the image - down\n",
        "          img = cv2.resize(img, (new_width, new_height), interpolation = cv2.INTER_LINEAR)\n",
        "\n",
        "          # resize the image - up\n",
        "          img = cv2.resize(img, (w, h), interpolation = cv2.INTER_LINEAR)\n",
        "\n",
        "          # save the image\n",
        "          print('Saving {}'.format(file))\n",
        "          cv2.imwrite('images/{}'.format(file), img)\n",
        "        except:\n",
        "          print('ERROR for file-', file, '!')\n",
        "          pass\n",
        "\n",
        "prepare_images('source/', 2)"
      ],
      "metadata": {
        "colab": {
          "base_uri": "https://localhost:8080/"
        },
        "id": "Y9DyA1C8wNa9",
        "outputId": "5deb7713-3527-4f49-bf16-67855e12d9c7"
      },
      "execution_count": null,
      "outputs": [
        {
          "output_type": "stream",
          "name": "stdout",
          "text": [
            "Saving I004 (1).png\n",
            "Saving I005 (5).png\n",
            "Saving I005 (8).png\n",
            "Saving I005 (6).png\n",
            "Saving I005 (3).png\n",
            "ERROR for file- .ipynb_checkpoints !\n",
            "Saving I005 (4).png\n",
            "Saving I004 (3).png\n",
            "Saving I004 (2).png\n",
            "Saving I005 (9).png\n",
            "Saving I005 (7).png\n"
          ]
        }
      ]
    },
    {
      "cell_type": "code",
      "source": [
        "# Testing Quality difference between source and image (degraded)\n",
        "for file in os.listdir('images/'):\n",
        "    try:\n",
        "      # open target and reference images\n",
        "      target = cv2.imread('images/{}'.format(file))\n",
        "      ref = cv2.imread('source/{}'.format(file))\n",
        "\n",
        "      # calculate score\n",
        "      scores = compare_images(target, ref)\n",
        "\n",
        "      # print all three scores with new line characters (\\n)\n",
        "      print('{}\\nPSNR: {}\\nMSE: {}\\nSSIM: {}\\n'.format(file, scores[0], scores[1], scores[2]))\n",
        "    except:\n",
        "      pass\n",
        ""
      ],
      "metadata": {
        "colab": {
          "base_uri": "https://localhost:8080/"
        },
        "id": "R5P9nnZWwah0",
        "outputId": "4ea698d4-2d8d-4129-ae7d-6b83550ed323"
      },
      "execution_count": null,
      "outputs": [
        {
          "output_type": "stream",
          "name": "stdout",
          "text": [
            "I004 (1).png\n",
            "PSNR: 30.507969753187304\n",
            "MSE: 173.5420168067227\n",
            "SSIM: 0.9050491751206543\n",
            "\n",
            "I005 (5).png\n",
            "PSNR: 29.27890149920032\n",
            "MSE: 230.30929487179486\n",
            "SSIM: 0.9341676648545291\n",
            "\n",
            "I005 (8).png\n",
            "PSNR: 32.30365007846585\n",
            "MSE: 114.77217391304347\n",
            "SSIM: 0.9471407577673864\n",
            "\n",
            "I005 (6).png\n",
            "PSNR: 29.70785704463235\n",
            "MSE: 208.64880952380952\n",
            "SSIM: 0.9431707389443926\n",
            "\n",
            "I005 (3).png\n",
            "PSNR: 33.42103470034358\n",
            "MSE: 88.73565217391304\n",
            "SSIM: 0.9646574602408213\n",
            "\n",
            "I005 (4).png\n",
            "PSNR: 31.75667078804424\n",
            "MSE: 130.17708333333334\n",
            "SSIM: 0.9358573092846395\n",
            "\n",
            "I004 (3).png\n",
            "PSNR: 29.723889074367513\n",
            "MSE: 207.88\n",
            "SSIM: 0.9345448564377508\n",
            "\n",
            "I004 (2).png\n",
            "PSNR: 33.66092808225389\n",
            "MSE: 83.96703296703296\n",
            "SSIM: 0.8992333592578778\n",
            "\n",
            "I005 (9).png\n",
            "PSNR: 33.331840520934755\n",
            "MSE: 90.57692307692308\n",
            "SSIM: 0.9581213205813626\n",
            "\n",
            "I005 (7).png\n",
            "PSNR: 30.7330456556994\n",
            "MSE: 164.77717391304347\n",
            "SSIM: 0.9552144618957236\n",
            "\n"
          ]
        },
        {
          "output_type": "stream",
          "name": "stderr",
          "text": [
            "<ipython-input-11-bc3890bc9768>:28: FutureWarning: `multichannel` is a deprecated argument name for `structural_similarity`. It will be removed in version 1.0. Please use `channel_axis` instead.\n",
            "  scores.append(ssim(target, ref, multichannel =True))\n"
          ]
        }
      ]
    },
    {
      "cell_type": "code",
      "source": [
        "# Defining SRCNN Model\n",
        "\n",
        "def model():\n",
        "    # Define model type\n",
        "    SRCNN = Sequential()\n",
        "\n",
        "    # Adjust model layers\n",
        "    SRCNN.add(Conv2D(filters=128, kernel_size=(9, 9), kernel_initializer='glorot_uniform',\n",
        "                     activation='relu', padding='same', input_shape=(None, None, 1)))  # Changed to 'same'\n",
        "    SRCNN.add(Conv2D(filters=64, kernel_size=(3, 3), kernel_initializer='glorot_uniform',\n",
        "                     activation='relu', padding='same'))\n",
        "    SRCNN.add(Conv2D(filters=1, kernel_size=(5, 5), kernel_initializer='glorot_uniform',\n",
        "                     activation='linear', padding='same'))\n",
        "\n",
        "    # Define optimizer\n",
        "    adam = Adam(lr=0.0003)\n",
        "\n",
        "    # Compile model\n",
        "    SRCNN.compile(optimizer=adam, loss='mean_squared_error', metrics=['mean_squared_error'])\n",
        "\n",
        "    return SRCNN\n"
      ],
      "metadata": {
        "id": "PYXmV7iiwqDu"
      },
      "execution_count": null,
      "outputs": []
    },
    {
      "cell_type": "code",
      "source": [
        "# Defining SRCNN Model\n",
        "srcnn = model()\n",
        "srcnn.summary()\n"
      ],
      "metadata": {
        "colab": {
          "base_uri": "https://localhost:8080/"
        },
        "id": "YZWDeCaVxAOu",
        "outputId": "e696af6b-ed72-49d1-ccdb-5ff23a47b559"
      },
      "execution_count": null,
      "outputs": [
        {
          "output_type": "stream",
          "name": "stderr",
          "text": [
            "WARNING:absl:`lr` is deprecated in Keras optimizer, please use `learning_rate` or use the legacy optimizer, e.g.,tf.keras.optimizers.legacy.Adam.\n"
          ]
        },
        {
          "output_type": "stream",
          "name": "stdout",
          "text": [
            "Model: \"sequential_17\"\n",
            "_________________________________________________________________\n",
            " Layer (type)                Output Shape              Param #   \n",
            "=================================================================\n",
            " conv2d_51 (Conv2D)          (None, None, None, 128)   10496     \n",
            "                                                                 \n",
            " conv2d_52 (Conv2D)          (None, None, None, 64)    73792     \n",
            "                                                                 \n",
            " conv2d_53 (Conv2D)          (None, None, None, 1)     1601      \n",
            "                                                                 \n",
            "=================================================================\n",
            "Total params: 85889 (335.50 KB)\n",
            "Trainable params: 85889 (335.50 KB)\n",
            "Non-trainable params: 0 (0.00 Byte)\n",
            "_________________________________________________________________\n"
          ]
        }
      ]
    },
    {
      "cell_type": "code",
      "source": [
        "# Image Processing Functions\n",
        "def modcrop(img, scale):\n",
        "    tmpsz = img.shape\n",
        "    sz = tmpsz[0:2]\n",
        "    sz = sz - np.mod(sz, scale)\n",
        "    img = img[0:sz[0], 1:sz[1]]\n",
        "    return img\n",
        "\n",
        "\n",
        "def shave(image, border):\n",
        "    if image.shape[0] > 2*border and image.shape[1] > 2*border:\n",
        "        img = image[border: -border, border: -border]\n",
        "        return img\n",
        "    else:\n",
        "        return image  # or handle this case as an error\n",
        "\n",
        "\n",
        "def predict(image_path):\n",
        "    # Load the SRCNN model with weights\n",
        "    srcnn = model()\n",
        "    srcnn.load_weights('3051crop_weight_200.h5')\n",
        "\n",
        "    # Load the degraded and reference images\n",
        "    path, file = os.path.split(image_path)\n",
        "    degraded = cv2.imread(image_path)\n",
        "    ref = cv2.imread('source/{}'.format(file))\n",
        "\n",
        "    # Preprocess the image with modcrop\n",
        "    ref = modcrop(ref, 3)\n",
        "    degraded = modcrop(degraded, 3)\n",
        "\n",
        "    # Convert the image to YCrCb (SRCNN trained on Y channel)\n",
        "    temp = cv2.cvtColor(degraded, cv2.COLOR_BGR2YCrCb)\n",
        "\n",
        "    # Create image slice and normalize\n",
        "    Y = np.zeros((1, temp.shape[0], temp.shape[1], 1), dtype=float)\n",
        "    Y[0, :, :, 0] = temp[:, :, 0].astype(float) / 255\n",
        "\n",
        "    print(f'Before SRCNN input shape: {Y.shape}')\n",
        "    pre = srcnn.predict(Y, batch_size=1)\n",
        "    print(f'After SRCNN output shape: {pre.shape}')\n",
        "\n",
        "    if temp.shape[0] == pre.shape[1] and temp.shape[1] == pre.shape[2]:\n",
        "        temp[:, :, 0] = pre[0, :, :, 0].reshape(temp.shape[0], temp.shape[1])\n",
        "    else:\n",
        "        raise ValueError(\"Dimension mismatch between processed image and output from model\")\n",
        "\n",
        "\n",
        "    # Post-process output\n",
        "    pre *= 255\n",
        "    pre[pre > 255] = 255\n",
        "    pre[pre < 0] = 0\n",
        "    pre = pre.astype(np.uint8)\n",
        "\n",
        "    print(f'pre shape: {pre.shape}, temp shape: {temp.shape}')\n",
        "    if temp.shape[0] == pre.shape[1] and temp.shape[1] == pre.shape[2]:\n",
        "        temp[:, :, 0] = pre[0, :, :, 0]\n",
        "    else:\n",
        "        raise ValueError(f\"Dimension mismatch: processed shape {pre.shape[1:3]}, expected {temp.shape[:2]}\")\n",
        "\n",
        "    # Copy Y channel back to image and convert to BGR\n",
        "    temp = shave(temp, 6)\n",
        "    temp[:, :, 0] = pre[0, :, :, 0]\n",
        "    output = cv2.cvtColor(temp, cv2.COLOR_YCrCb2BGR)\n",
        "\n",
        "    # Remove border from reference and degraded image\n",
        "    ref = shave(ref.astype(np.uint8), 6)\n",
        "    degraded = shave(degraded.astype(np.uint8), 6)\n",
        "\n",
        "    # Image quality calculations\n",
        "    scores = [compare_images(degraded, ref), compare_images(output, ref)]\n",
        "\n",
        "    # Return images and scores\n",
        "    return ref, degraded, output, scores\n",
        "\n",
        "\n",
        "\n"
      ],
      "metadata": {
        "id": "CR84xbbGxGzx"
      },
      "execution_count": null,
      "outputs": []
    },
    {
      "cell_type": "code",
      "source": [
        "ref, degraded, output, scores = predict('images/I004 (1).png')\n",
        "\n",
        "# print all scores for all images\n",
        "print('Degraded Image: \\nPSNR: {}\\nMSE: {}\\nSSIM: {}\\n'.format(scores[0][0], scores[0][1], scores[0][2]))\n",
        "print('Reconstructed Image: \\nPSNR: {}\\nMSE: {}\\nSSIM: {}\\n'.format(scores[1][0], scores[1][1], scores[1][2]))\n",
        "\n",
        "\n",
        "# display images as subplots\n",
        "fig, axs = plt.subplots(1, 3, figsize=(20, 8))\n",
        "axs[0].imshow(cv2.cvtColor(ref, cv2.COLOR_BGR2RGB))\n",
        "axs[0].set_title('Original')\n",
        "axs[1].imshow(cv2.cvtColor(degraded, cv2.COLOR_BGR2RGB))\n",
        "axs[1].set_title('Degraded')\n",
        "axs[2].imshow(cv2.cvtColor(output, cv2.COLOR_BGR2RGB))\n",
        "axs[2].set_title('SRCNN')\n",
        "\n",
        "# remove the x and y ticks\n",
        "for ax in axs:\n",
        "    ax.set_xticks([])\n",
        "    ax.set_yticks([])\n",
        "\n",
        "\n",
        ""
      ],
      "metadata": {
        "colab": {
          "base_uri": "https://localhost:8080/",
          "height": 722
        },
        "id": "Umk6BY83vmPC",
        "outputId": "f930d0c8-e0b7-4d76-99db-cbb009f315b7"
      },
      "execution_count": null,
      "outputs": [
        {
          "output_type": "stream",
          "name": "stderr",
          "text": [
            "WARNING:absl:`lr` is deprecated in Keras optimizer, please use `learning_rate` or use the legacy optimizer, e.g.,tf.keras.optimizers.legacy.Adam.\n"
          ]
        },
        {
          "output_type": "stream",
          "name": "stdout",
          "text": [
            "Before SRCNN input shape: (1, 12, 14, 1)\n",
            "1/1 [==============================] - 0s 64ms/step\n"
          ]
        },
        {
          "output_type": "stream",
          "name": "stderr",
          "text": [
            "<ipython-input-11-bc3890bc9768>:28: FutureWarning: `multichannel` is a deprecated argument name for `structural_similarity`. It will be removed in version 1.0. Please use `channel_axis` instead.\n",
            "  scores.append(ssim(target, ref, multichannel =True))\n"
          ]
        },
        {
          "output_type": "stream",
          "name": "stdout",
          "text": [
            "After SRCNN output shape: (1, 12, 14, 1)\n",
            "pre shape: (1, 12, 14, 1), temp shape: (12, 14, 3)\n",
            "Degraded Image: \n",
            "PSNR: 29.377319606182112\n",
            "MSE: 225.14880952380952\n",
            "SSIM: 0.8704930133030698\n",
            "\n",
            "Reconstructed Image: \n",
            "PSNR: 27.357268775035553\n",
            "MSE: 358.48809523809524\n",
            "SSIM: 0.9229728164050486\n",
            "\n"
          ]
        },
        {
          "output_type": "display_data",
          "data": {
            "text/plain": [
              "<Figure size 2000x800 with 3 Axes>"
            ],
            "image/png": "[encoded data removed]"
          },
          "metadata": {}
        }
      ]
    },
    {
      "cell_type": "code",
      "source": [
        "# Performing Super Resolution using our SRCNN model on all images (degraded)\n",
        "\n",
        "for file in os.listdir('images'):\n",
        "    # perform super-resolution\n",
        "    try:\n",
        "      ref, degraded, output, scores = predict('images/{}'.format(file))\n",
        "    except:\n",
        "      continue\n",
        "\n",
        "\n",
        "    # display images as subplots\n",
        "    fig, axs = plt.subplots(1, 3, figsize=(20, 8))\n",
        "    axs[0].imshow(cv2.cvtColor(ref, cv2.COLOR_BGR2RGB))\n",
        "    axs[0].set_title('Original')\n",
        "    axs[1].imshow(cv2.cvtColor(degraded, cv2.COLOR_BGR2RGB))\n",
        "    axs[1].set_title('Degraded')\n",
        "    axs[1].set(xlabel = 'PSNR: {}\\nMSE: {} \\nSSIM: {}'.format(scores[0][0], scores[0][1], scores[0][2]))\n",
        "    axs[2].imshow(cv2.cvtColor(output, cv2.COLOR_BGR2RGB))\n",
        "    axs[2].set_title('SRCNN')\n",
        "    axs[2].set(xlabel = 'PSNR: {} \\nMSE: {} \\nSSIM: {}'.format(scores[1][0], scores[1][1], scores[1][2]))\n",
        "\n",
        "    # remove the x and y ticks\n",
        "    for ax in axs:\n",
        "        ax.set_xticks([])\n",
        "        ax.set_yticks([])\n",
        "\n",
        "    print('Saving {}'.format(file))\n",
        "    fig.savefig('output/{}.png'.format(os.path.splitext(file)[0]))\n",
        "plt.close()\n",
        "\n"
      ],
      "metadata": {
        "colab": {
          "base_uri": "https://localhost:8080/",
          "height": 1000
        },
        "id": "6VYL2bp_xe-k",
        "outputId": "4908714c-b7a5-4f03-8397-3f6256a63935"
      },
      "execution_count": null,
      "outputs": [
        {
          "output_type": "stream",
          "name": "stderr",
          "text": [
            "WARNING:absl:`lr` is deprecated in Keras optimizer, please use `learning_rate` or use the legacy optimizer, e.g.,tf.keras.optimizers.legacy.Adam.\n",
            "WARNING:absl:`lr` is deprecated in Keras optimizer, please use `learning_rate` or use the legacy optimizer, e.g.,tf.keras.optimizers.legacy.Adam.\n"
          ]
        },
        {
          "output_type": "stream",
          "name": "stdout",
          "text": [
            "Before SRCNN input shape: (1, 12, 14, 1)\n",
            "1/1 [==============================] - 0s 58ms/step\n"
          ]
        },
        {
          "output_type": "stream",
          "name": "stderr",
          "text": [
            "<ipython-input-11-bc3890bc9768>:28: FutureWarning: `multichannel` is a deprecated argument name for `structural_similarity`. It will be removed in version 1.0. Please use `channel_axis` instead.\n",
            "  scores.append(ssim(target, ref, multichannel =True))\n"
          ]
        },
        {
          "output_type": "stream",
          "name": "stdout",
          "text": [
            "After SRCNN output shape: (1, 12, 14, 1)\n",
            "pre shape: (1, 12, 14, 1), temp shape: (12, 14, 3)\n"
          ]
        },
        {
          "output_type": "stream",
          "name": "stderr",
          "text": [
            "WARNING:absl:`lr` is deprecated in Keras optimizer, please use `learning_rate` or use the legacy optimizer, e.g.,tf.keras.optimizers.legacy.Adam.\n"
          ]
        },
        {
          "output_type": "stream",
          "name": "stdout",
          "text": [
            "Saving I004 (1).png\n",
            "Before SRCNN input shape: (1, 24, 23, 1)\n",
            "1/1 [==============================] - 0s 64ms/step\n"
          ]
        },
        {
          "output_type": "stream",
          "name": "stderr",
          "text": [
            "WARNING:absl:`lr` is deprecated in Keras optimizer, please use `learning_rate` or use the legacy optimizer, e.g.,tf.keras.optimizers.legacy.Adam.\n"
          ]
        },
        {
          "output_type": "stream",
          "name": "stdout",
          "text": [
            "After SRCNN output shape: (1, 24, 23, 1)\n",
            "pre shape: (1, 24, 23, 1), temp shape: (24, 23, 3)\n",
            "Before SRCNN input shape: (1, 21, 23, 1)\n",
            "1/1 [==============================] - 0s 62ms/step\n",
            "After SRCNN output shape: (1, 21, 23, 1)\n",
            "pre shape: (1, 21, 23, 1), temp shape: (21, 23, 3)\n"
          ]
        },
        {
          "output_type": "stream",
          "name": "stderr",
          "text": [
            "WARNING:absl:`lr` is deprecated in Keras optimizer, please use `learning_rate` or use the legacy optimizer, e.g.,tf.keras.optimizers.legacy.Adam.\n",
            "WARNING:absl:`lr` is deprecated in Keras optimizer, please use `learning_rate` or use the legacy optimizer, e.g.,tf.keras.optimizers.legacy.Adam.\n"
          ]
        },
        {
          "output_type": "stream",
          "name": "stdout",
          "text": [
            "Before SRCNN input shape: (1, 24, 26, 1)\n",
            "1/1 [==============================] - 0s 60ms/step\n"
          ]
        },
        {
          "output_type": "stream",
          "name": "stderr",
          "text": [
            "WARNING:absl:`lr` is deprecated in Keras optimizer, please use `learning_rate` or use the legacy optimizer, e.g.,tf.keras.optimizers.legacy.Adam.\n"
          ]
        },
        {
          "output_type": "stream",
          "name": "stdout",
          "text": [
            "After SRCNN output shape: (1, 24, 26, 1)\n",
            "pre shape: (1, 24, 26, 1), temp shape: (24, 26, 3)\n"
          ]
        },
        {
          "output_type": "stream",
          "name": "stderr",
          "text": [
            "WARNING:absl:`lr` is deprecated in Keras optimizer, please use `learning_rate` or use the legacy optimizer, e.g.,tf.keras.optimizers.legacy.Adam.\n"
          ]
        },
        {
          "output_type": "stream",
          "name": "stdout",
          "text": [
            "Before SRCNN input shape: (1, 21, 23, 1)\n",
            "1/1 [==============================] - 0s 65ms/step\n"
          ]
        },
        {
          "output_type": "stream",
          "name": "stderr",
          "text": [
            "WARNING:absl:`lr` is deprecated in Keras optimizer, please use `learning_rate` or use the legacy optimizer, e.g.,tf.keras.optimizers.legacy.Adam.\n"
          ]
        },
        {
          "output_type": "stream",
          "name": "stdout",
          "text": [
            "After SRCNN output shape: (1, 21, 23, 1)\n",
            "pre shape: (1, 21, 23, 1), temp shape: (21, 23, 3)\n"
          ]
        },
        {
          "output_type": "stream",
          "name": "stderr",
          "text": [
            "WARNING:absl:`lr` is deprecated in Keras optimizer, please use `learning_rate` or use the legacy optimizer, e.g.,tf.keras.optimizers.legacy.Adam.\n"
          ]
        },
        {
          "output_type": "stream",
          "name": "stdout",
          "text": [
            "Before SRCNN input shape: (1, 24, 23, 1)\n",
            "1/1 [==============================] - 0s 61ms/step\n"
          ]
        },
        {
          "output_type": "stream",
          "name": "stderr",
          "text": [
            "WARNING:absl:`lr` is deprecated in Keras optimizer, please use `learning_rate` or use the legacy optimizer, e.g.,tf.keras.optimizers.legacy.Adam.\n"
          ]
        },
        {
          "output_type": "stream",
          "name": "stdout",
          "text": [
            "After SRCNN output shape: (1, 24, 23, 1)\n",
            "pre shape: (1, 24, 23, 1), temp shape: (24, 23, 3)\n",
            "Before SRCNN input shape: (1, 15, 14, 1)\n",
            "1/1 [==============================] - 0s 60ms/step\n",
            "After SRCNN output shape: (1, 15, 14, 1)\n",
            "pre shape: (1, 15, 14, 1), temp shape: (15, 14, 3)\n"
          ]
        },
        {
          "output_type": "stream",
          "name": "stderr",
          "text": [
            "WARNING:absl:`lr` is deprecated in Keras optimizer, please use `learning_rate` or use the legacy optimizer, e.g.,tf.keras.optimizers.legacy.Adam.\n",
            "WARNING:absl:`lr` is deprecated in Keras optimizer, please use `learning_rate` or use the legacy optimizer, e.g.,tf.keras.optimizers.legacy.Adam.\n"
          ]
        },
        {
          "output_type": "stream",
          "name": "stdout",
          "text": [
            "Before SRCNN input shape: (1, 12, 11, 1)\n",
            "1/1 [==============================] - 0s 60ms/step\n",
            "After SRCNN output shape: (1, 12, 11, 1)\n",
            "pre shape: (1, 12, 11, 1), temp shape: (12, 11, 3)\n",
            "Saving I004 (2).png\n"
          ]
        },
        {
          "output_type": "stream",
          "name": "stderr",
          "text": [
            "WARNING:absl:`lr` is deprecated in Keras optimizer, please use `learning_rate` or use the legacy optimizer, e.g.,tf.keras.optimizers.legacy.Adam.\n"
          ]
        },
        {
          "output_type": "stream",
          "name": "stdout",
          "text": [
            "Before SRCNN input shape: (1, 24, 23, 1)\n",
            "1/1 [==============================] - 0s 58ms/step\n"
          ]
        },
        {
          "output_type": "stream",
          "name": "stderr",
          "text": [
            "WARNING:absl:`lr` is deprecated in Keras optimizer, please use `learning_rate` or use the legacy optimizer, e.g.,tf.keras.optimizers.legacy.Adam.\n"
          ]
        },
        {
          "output_type": "stream",
          "name": "stdout",
          "text": [
            "After SRCNN output shape: (1, 24, 23, 1)\n",
            "pre shape: (1, 24, 23, 1), temp shape: (24, 23, 3)\n",
            "Before SRCNN input shape: (1, 24, 20, 1)\n",
            "1/1 [==============================] - 0s 56ms/step\n",
            "After SRCNN output shape: (1, 24, 20, 1)\n",
            "pre shape: (1, 24, 20, 1), temp shape: (24, 20, 3)\n"
          ]
        },
        {
          "output_type": "stream",
          "name": "stderr",
          "text": [
            "WARNING:absl:`lr` is deprecated in Keras optimizer, please use `learning_rate` or use the legacy optimizer, e.g.,tf.keras.optimizers.legacy.Adam.\n"
          ]
        },
        {
          "output_type": "display_data",
          "data": {
            "text/plain": [
              "<Figure size 2000x800 with 3 Axes>"
            ],
            "image/png": "[encoded data removed]"
          },
          "metadata": {}
        }
      ]
    },
    {
      "cell_type": "code",
      "source": [],
      "metadata": {
        "id": "eWEezGiUx2vr"
      },
      "execution_count": null,
      "outputs": []
    }
  ]
}